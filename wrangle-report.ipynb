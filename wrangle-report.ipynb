{
 "cells": [
  {
   "cell_type": "markdown",
   "id": "50da3252",
   "metadata": {},
   "source": [
    "# WRANGLE REPORT"
   ]
  },
  {
   "cell_type": "markdown",
   "id": "973af503",
   "metadata": {},
   "source": [
    "Data for this analysis were gathered from three different sources:\n",
    "- Twitter API\n",
    "- https://d17h27t6h515a5.cloudfront.net/topher/2017/August/599fd2ad_image-predictions/image-predictions.tsv\n",
    "- twitter-archive-enhanced.csv\n",
    "\n",
    "After carrying out visual and programmatic assessment of the data, it was discovered that there was a lot of issues with the data. The data was both dirty and untidy. It needed to be cleaned to improve its quality and tidiness. There were a couple of quality issues that were identified which include:\n",
    "\n",
    "**Quality issues:**\n",
    "- 5columns have over 90% missing values in the `twitter-archive-enhanced.csv`\n",
    "- Data type of tweet_id column is an integer, it needs to be converted to a string in the `twitter-archive-enhanced.csv`\n",
    "- Data type of timestamp is an object instead of a datetime in the `twitter-archive-enhanced.csv`\n",
    "- Some names like FlÃ¡vio, GÃ²rdÃ³n, AmÃ©lie, OliviÃ©r, RalphÃ©, DevÃ³n are not in the format of English alphabet in the `twitter-archive-enhanced.csv`\n",
    "- Source of tweet are within html attributes in the source column. This should be extracted in the `twitter-archive-enhanced.csv`\n",
    "- The maximum value of the rating numerator is an outlier; it is very far from the mean value in the `twitter-archive-enhanced.csv`\n",
    "- Data type of the tweet_id is an integer instead of a string in the `image-predictions.tsv`\n",
    "- Drop columns `p2`, `p3`. They won't be useful for our analysis in the `image-predictions.tsv`\n",
    "- Predicted names on column `p1` is in both capital and small letters. They should be in small letters in the `image-predictions.tsv`.\n",
    "- Data type of the tweet_id is an integer instead of a string in the file gotten from the `twitter API`\n",
    "\n",
    "The tidiness issues that were identified include:\n",
    "\n",
    "**Tidiness**\n",
    "- Dog stages are in 4columns; doggo, floofer, pupper, puppo.\n",
    "- Merge all three columns then drop duplicate columns"
   ]
  },
  {
   "cell_type": "markdown",
   "id": "68ee6ddd",
   "metadata": {},
   "source": [
    "### CLEANED DATA\n",
    "Each of the quality and tidiness issue with the data was treated one after the other to produce a clean data. Highlights of the actions carried out to clean the data is as follows."
   ]
  },
  {
   "cell_type": "markdown",
   "id": "dc41f682",
   "metadata": {},
   "source": [
    "- The 5columns with over 90% missing data were dropped.\n",
    "- Data type of the tweet_id column was converted to string.\n",
    "- Data type of timestamp column was converted to datetime.\n",
    "- Unusual alphabet names were replaced with their corresponding English alphabet\n",
    "- Tweet source was extracted from its html attribute\n",
    "- The row corresponding to the maximum rating numerator which was an outlier was deleted\n",
    "- Unusefull columns like p2,p3 were dropped\n",
    "- Names of the dog breed were all converted to lowercase letters\n",
    "- All dog stages were aggregated to a single column\n",
    "- The three dataset were merge to form a single table"
   ]
  }
 ],
 "metadata": {
  "kernelspec": {
   "display_name": "Python 3 (ipykernel)",
   "language": "python",
   "name": "python3"
  },
  "language_info": {
   "codemirror_mode": {
    "name": "ipython",
    "version": 3
   },
   "file_extension": ".py",
   "mimetype": "text/x-python",
   "name": "python",
   "nbconvert_exporter": "python",
   "pygments_lexer": "ipython3",
   "version": "3.9.12"
  }
 },
 "nbformat": 4,
 "nbformat_minor": 5
}
